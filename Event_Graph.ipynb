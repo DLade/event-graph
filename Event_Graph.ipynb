{
 "cells": [
  {
   "cell_type": "code",
   "execution_count": 252,
   "metadata": {},
   "outputs": [],
   "source": [
    "%matplotlib inline\n",
    "\n",
    "from IPython.core.interactiveshell import InteractiveShell\n",
    "InteractiveShell.ast_node_interactivity = \"all\"\n",
    "\n",
    "import seaborn as sbs\n",
    "import matplotlib\n",
    "import matplotlib.pyplot as plt\n",
    "matplotlib.style.use('ggplot')\n",
    "\n",
    "import numpy as np\n",
    "import pandas as pd"
   ]
  },
  {
   "cell_type": "code",
   "execution_count": 307,
   "metadata": {},
   "outputs": [],
   "source": [
    "arr = np.zeros((100, 5))\n",
    "for num in range(0,99):\n",
    "    a = 1 if (np.random.rand() >= 0.3) else 0             #   -> a - 70 %\n",
    "    b = 1 if (np.random.rand() >= 0.5 and a == 1) else 0  # a -> b - 50 %\n",
    "    c = 1 if (np.random.rand() >= 0.5 and b == 1) else 0  # b -> c - 50 %\n",
    "    d = 1 if (b == 1 and c == 0) else 0                   # b -> d - 50 % (neg. c)\n",
    "    e = 1 if (np.random.rand() >= 0.7) else 0             #   -> e - 30 % \n",
    "    \n",
    "    # c |= 1 if (np.random.rand() >= 0.9) else 0            #   -> c - 10 % (+ Rauschen)    \n",
    "    arr[num] = [a, b, c, d, e]\n",
    "    \n",
    "df = pd.DataFrame(arr, columns=['a','b','c','d','e'])"
   ]
  },
  {
   "cell_type": "code",
   "execution_count": 308,
   "metadata": {},
   "outputs": [
    {
     "data": {
      "text/plain": [
       "[]"
      ]
     },
     "execution_count": 308,
     "metadata": {},
     "output_type": "execute_result"
    },
    {
     "data": {
      "image/png": "[encoded data removed]",
      "text/plain": [
       "<matplotlib.figure.Figure at 0x7f199b688eb8>"
      ]
     },
     "metadata": {},
     "output_type": "display_data"
    }
   ],
   "source": [
    "f, (ax1, ax2, ax3, ax4, ax5) = plt.subplots(5, 1, figsize=(8, 4), sharex=True)\n",
    "\n",
    "def plotl(axis, label):\n",
    "    sbs.barplot(df.index, df[label], palette=\"BuGn_d\", ax=axis);\n",
    "    axis.set_ylabel(label);\n",
    "    \n",
    "plotl(ax1, 'a')\n",
    "plotl(ax2, 'b')\n",
    "plotl(ax3, 'c')\n",
    "plotl(ax4, 'd')\n",
    "plotl(ax5, 'e')\n",
    "\n",
    "sbs.despine(bottom=True)\n",
    "plt.setp(f.axes, yticks=[])\n",
    "plt.tight_layout(h_pad=3)\n"
   ]
  },
  {
   "cell_type": "code",
   "execution_count": 309,
   "metadata": {},
   "outputs": [
    {
     "data": {
      "image/png": "[encoded data removed]",
      "text/plain": [
       "<matplotlib.figure.Figure at 0x7f1997519fd0>"
      ]
     },
     "metadata": {},
     "output_type": "display_data"
    }
   ],
   "source": [
    "sbs.heatmap(df.corr());"
   ]
  },
  {
   "cell_type": "code",
   "execution_count": 310,
   "metadata": {},
   "outputs": [
    {
     "data": {
      "text/plain": [
       "a    71.0\n",
       "b    38.0\n",
       "c    24.0\n",
       "d    14.0\n",
       "e    30.0\n",
       "dtype: float64"
      ]
     },
     "execution_count": 310,
     "metadata": {},
     "output_type": "execute_result"
    }
   ],
   "source": [
    "df.sum()"
   ]
  },
  {
   "cell_type": "code",
   "execution_count": 311,
   "metadata": {},
   "outputs": [],
   "source": [
    "# remove events without dependency\n",
    "for num in range(0,100):\n",
    "    if (arr[num].sum() == 1):\n",
    "        arr[num] = np.zeros(5)"
   ]
  },
  {
   "cell_type": "code",
   "execution_count": 312,
   "metadata": {},
   "outputs": [
    {
     "data": {
      "image/png": "[encoded data removed]",
      "text/plain": [
       "<matplotlib.figure.Figure at 0x7f19987a5d30>"
      ]
     },
     "metadata": {},
     "output_type": "display_data"
    }
   ],
   "source": [
    "sbs.heatmap(df.corr());"
   ]
  },
  {
   "cell_type": "code",
   "execution_count": 313,
   "metadata": {},
   "outputs": [
    {
     "data": {
      "text/plain": [
       "a    50.0\n",
       "b    38.0\n",
       "c    24.0\n",
       "d    14.0\n",
       "e    25.0\n",
       "dtype: float64"
      ]
     },
     "execution_count": 313,
     "metadata": {},
     "output_type": "execute_result"
    }
   ],
   "source": [
    "df.sum()"
   ]
  },
  {
   "cell_type": "code",
   "execution_count": null,
   "metadata": {
    "collapsed": true
   },
   "outputs": [],
   "source": []
  }
 ],
 "metadata": {
  "kernelspec": {
   "display_name": "Python 3",
   "language": "python",
   "name": "python3"
  },
  "language_info": {
   "codemirror_mode": {
    "name": "ipython",
    "version": 3
   },
   "file_extension": ".py",
   "mimetype": "text/x-python",
   "name": "python",
   "nbconvert_exporter": "python",
   "pygments_lexer": "ipython3",
   "version": "3.6.1"
  }
 },
 "nbformat": 4,
 "nbformat_minor": 2
}
